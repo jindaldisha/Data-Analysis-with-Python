{
  "nbformat": 4,
  "nbformat_minor": 0,
  "metadata": {
    "colab": {
      "name": "python_filesystem.ipynb",
      "provenance": [],
      "collapsed_sections": [],
      "authorship_tag": "ABX9TyOd1Y9QbzpkeBF5su4uqxYb",
      "include_colab_link": true
    },
    "kernelspec": {
      "name": "python3",
      "display_name": "Python 3"
    },
    "language_info": {
      "name": "python"
    }
  },
  "cells": [
    {
      "cell_type": "markdown",
      "metadata": {
        "id": "view-in-github",
        "colab_type": "text"
      },
      "source": [
        "<a href=\"https://colab.research.google.com/github/jindaldisha/Data-Analysis-with-Python/blob/main/python_filesystem.ipynb\" target=\"_parent\"><img src=\"https://colab.research.google.com/assets/colab-badge.svg\" alt=\"Open In Colab\"/></a>"
      ]
    },
    {
      "cell_type": "markdown",
      "metadata": {
        "id": "Shb-LdEd2n82"
      },
      "source": [
        "#Reading from and Writing to a file using Python"
      ]
    },
    {
      "cell_type": "code",
      "metadata": {
        "id": "rAPEGZCm29YR"
      },
      "source": [
        "import os"
      ],
      "execution_count": 1,
      "outputs": []
    },
    {
      "cell_type": "code",
      "metadata": {
        "colab": {
          "base_uri": "https://localhost:8080/",
          "height": 35
        },
        "id": "WX4KNWLa3H3p",
        "outputId": "1a76f45a-8214-4995-a18b-803fe499c847"
      },
      "source": [
        "#Check the present working directory\n",
        "os.getcwd()"
      ],
      "execution_count": 2,
      "outputs": [
        {
          "output_type": "execute_result",
          "data": {
            "application/vnd.google.colaboratory.intrinsic+json": {
              "type": "string"
            },
            "text/plain": [
              "'/content'"
            ]
          },
          "metadata": {
            "tags": []
          },
          "execution_count": 2
        }
      ]
    },
    {
      "cell_type": "code",
      "metadata": {
        "colab": {
          "base_uri": "https://localhost:8080/"
        },
        "id": "fGrv5enV3QP1",
        "outputId": "e6cde4af-787b-459a-f08f-4e4a36c88206"
      },
      "source": [
        "#return a list containing names of files in a directory\n",
        "os.listdir('.') # relative path"
      ],
      "execution_count": 3,
      "outputs": [
        {
          "output_type": "execute_result",
          "data": {
            "text/plain": [
              "['.config', 'sample_data']"
            ]
          },
          "metadata": {
            "tags": []
          },
          "execution_count": 3
        }
      ]
    },
    {
      "cell_type": "code",
      "metadata": {
        "colab": {
          "base_uri": "https://localhost:8080/"
        },
        "id": "yTo1mogU3qwp",
        "outputId": "917f164a-a758-43c1-90fd-abd3a8261450"
      },
      "source": [
        "os.listdir('/usr') # absolute path"
      ],
      "execution_count": 4,
      "outputs": [
        {
          "output_type": "execute_result",
          "data": {
            "text/plain": [
              "['local',\n",
              " 'include',\n",
              " 'games',\n",
              " 'sbin',\n",
              " 'lib',\n",
              " 'share',\n",
              " 'bin',\n",
              " 'src',\n",
              " 'grte',\n",
              " 'lib32']"
            ]
          },
          "metadata": {
            "tags": []
          },
          "execution_count": 4
        }
      ]
    },
    {
      "cell_type": "code",
      "metadata": {
        "id": "nGfavNQU3xXe"
      },
      "source": [
        "#Creating a new directory\n",
        "os.makedirs('./data', exist_ok=True)"
      ],
      "execution_count": 5,
      "outputs": []
    },
    {
      "cell_type": "code",
      "metadata": {
        "colab": {
          "base_uri": "https://localhost:8080/"
        },
        "id": "rbXv23n237K-",
        "outputId": "7b5dd722-45be-49a7-dac6-1bba9c9ade07"
      },
      "source": [
        "os.listdir('.')"
      ],
      "execution_count": 6,
      "outputs": [
        {
          "output_type": "execute_result",
          "data": {
            "text/plain": [
              "['.config', 'data', 'sample_data']"
            ]
          },
          "metadata": {
            "tags": []
          },
          "execution_count": 6
        }
      ]
    },
    {
      "cell_type": "code",
      "metadata": {
        "colab": {
          "base_uri": "https://localhost:8080/"
        },
        "id": "KZTeS8YK39pB",
        "outputId": "4815c4ff-9786-4f45-800e-fee859d05cd5"
      },
      "source": [
        "os.listdir('./data')"
      ],
      "execution_count": 7,
      "outputs": [
        {
          "output_type": "execute_result",
          "data": {
            "text/plain": [
              "[]"
            ]
          },
          "metadata": {
            "tags": []
          },
          "execution_count": 7
        }
      ]
    },
    {
      "cell_type": "code",
      "metadata": {
        "id": "0duBcggm4LDf"
      },
      "source": [
        "#downloading some data\n",
        "url1 = 'https://gist.githubusercontent.com/aakashns/257f6e6c8719c17d0e498ea287d1a386/raw/7def9ef4234ddf0bc82f855ad67dac8b971852ef/loans1.txt'\n",
        "url2 = 'https://gist.githubusercontent.com/aakashns/257f6e6c8719c17d0e498ea287d1a386/raw/7def9ef4234ddf0bc82f855ad67dac8b971852ef/loans2.txt'\n",
        "url3 = 'https://gist.githubusercontent.com/aakashns/257f6e6c8719c17d0e498ea287d1a386/raw/7def9ef4234ddf0bc82f855ad67dac8b971852ef/loans3.txt'"
      ],
      "execution_count": 8,
      "outputs": []
    },
    {
      "cell_type": "code",
      "metadata": {
        "id": "8y_Zzf5O4aJg"
      },
      "source": [
        "#We use urlretrieve to download files into our directory\n",
        "from urllib.request import urlretrieve"
      ],
      "execution_count": 9,
      "outputs": []
    },
    {
      "cell_type": "code",
      "metadata": {
        "colab": {
          "base_uri": "https://localhost:8080/"
        },
        "id": "TTi7U95k4d7w",
        "outputId": "70a4324d-e2d9-477a-96ef-7e0a855dc29a"
      },
      "source": [
        "urlretrieve(url1, './data/loans1.txt')\n",
        "urlretrieve(url2, './data/loans2.txt')\n",
        "urlretrieve(url3, './data/loans3.txt')"
      ],
      "execution_count": 10,
      "outputs": [
        {
          "output_type": "execute_result",
          "data": {
            "text/plain": [
              "('./data/loans3.txt', <http.client.HTTPMessage at 0x7fa7052a7290>)"
            ]
          },
          "metadata": {
            "tags": []
          },
          "execution_count": 10
        }
      ]
    },
    {
      "cell_type": "code",
      "metadata": {
        "colab": {
          "base_uri": "https://localhost:8080/"
        },
        "id": "Juuk3UCi5CIF",
        "outputId": "319b6dea-fb2c-470f-9007-cbbfde055cfc"
      },
      "source": [
        "os.listdir('./data')"
      ],
      "execution_count": 11,
      "outputs": [
        {
          "output_type": "execute_result",
          "data": {
            "text/plain": [
              "['loans3.txt', 'loans1.txt', 'loans2.txt']"
            ]
          },
          "metadata": {
            "tags": []
          },
          "execution_count": 11
        }
      ]
    },
    {
      "cell_type": "markdown",
      "metadata": {
        "id": "naaOj5915a3B"
      },
      "source": [
        "To read from a file we first have to open it, and then after we're done interacting with it we have to close it too, otherwise it constinues hoaging memory."
      ]
    },
    {
      "cell_type": "code",
      "metadata": {
        "id": "jTr42_SS5GzA"
      },
      "source": [
        "#Reading from a file\n",
        "file1 = open('./data/loans1.txt', mode='r')"
      ],
      "execution_count": 12,
      "outputs": []
    },
    {
      "cell_type": "code",
      "metadata": {
        "id": "SCLgeyFq5-z2"
      },
      "source": [
        "#Viewing content of a file\n",
        "file1_content = file1.read()"
      ],
      "execution_count": 13,
      "outputs": []
    },
    {
      "cell_type": "code",
      "metadata": {
        "colab": {
          "base_uri": "https://localhost:8080/"
        },
        "id": "hHemZRMB6F-7",
        "outputId": "d61be8ba-3838-4046-cd5a-c66f428b9ecb"
      },
      "source": [
        "print(file1_content)"
      ],
      "execution_count": 14,
      "outputs": [
        {
          "output_type": "stream",
          "text": [
            "amount,duration,rate,down_payment\n",
            "100000,36,0.08,20000\n",
            "200000,12,0.1,\n",
            "628400,120,0.12,100000\n",
            "4637400,240,0.06,\n",
            "42900,90,0.07,8900\n",
            "916000,16,0.13,\n",
            "45230,48,0.08,4300\n",
            "991360,99,0.08,\n",
            "423000,27,0.09,47200\n"
          ],
          "name": "stdout"
        }
      ]
    },
    {
      "cell_type": "code",
      "metadata": {
        "id": "KLWtkwya6IOm"
      },
      "source": [
        "file1.close()"
      ],
      "execution_count": 15,
      "outputs": []
    },
    {
      "cell_type": "markdown",
      "metadata": {
        "id": "yDK1u0-v8dkT"
      },
      "source": [
        "**Processing Data from a file**\n",
        "\n",
        "Before performing any operations on the data stored in a file, we need to convert the file's contents from one large string into Python data types. We can do the following:\n",
        "\n",
        "- Read the file line by line\n",
        "- Parse the first line to get a list of the column names or headers\n",
        "- Split each remaining line and convert each value into a float\n",
        "- Create a dictionary for each loan using the headers as keys\n",
        "- Create a list of dictionaries to keep track of all the loans"
      ]
    },
    {
      "cell_type": "markdown",
      "metadata": {
        "id": "x69AcApT6hZp"
      },
      "source": [
        "We can also do the above process of opening then reading and then closing a file with as follows. This automatically closes the file after you're done processing with it"
      ]
    },
    {
      "cell_type": "code",
      "metadata": {
        "id": "y4XdhhYG613C"
      },
      "source": [
        "#Function to open the file, read its content and then close it\n",
        "def read_file(file_path):\n",
        "  with open(file_path) as file2:\n",
        "    file_content = file2.readlines()\n",
        "  return file_content"
      ],
      "execution_count": 16,
      "outputs": []
    },
    {
      "cell_type": "code",
      "metadata": {
        "colab": {
          "base_uri": "https://localhost:8080/"
        },
        "id": "BljKuKsq7DKD",
        "outputId": "5fa3388b-c0aa-447b-c512-6ef3f69e0662"
      },
      "source": [
        "file2_content = read_file('./data/loans2.txt')\n",
        "file2_content"
      ],
      "execution_count": 17,
      "outputs": [
        {
          "output_type": "execute_result",
          "data": {
            "text/plain": [
              "['amount,duration,rate,down_payment\\n',\n",
              " '828400,120,0.11,100000\\n',\n",
              " '4633400,240,0.06,\\n',\n",
              " '42900,90,0.08,8900\\n',\n",
              " '983000,16,0.14,\\n',\n",
              " '15230,48,0.07,4300']"
            ]
          },
          "metadata": {
            "tags": []
          },
          "execution_count": 17
        }
      ]
    },
    {
      "cell_type": "code",
      "metadata": {
        "colab": {
          "base_uri": "https://localhost:8080/"
        },
        "id": "3TIOVtU67JSg",
        "outputId": "b2b3356f-c219-4fb8-b635-6237d5d83c11"
      },
      "source": [
        "file3_content = read_file('./data/loans3.txt')\n",
        "file3_content"
      ],
      "execution_count": 18,
      "outputs": [
        {
          "output_type": "execute_result",
          "data": {
            "text/plain": [
              "['amount,duration,rate,down_payment\\n',\n",
              " '45230,48,0.07,4300\\n',\n",
              " '883000,16,0.14,\\n',\n",
              " '100000,12,0.1,\\n',\n",
              " '728400,120,0.12,100000\\n',\n",
              " '3637400,240,0.06,\\n',\n",
              " '82900,90,0.07,8900\\n',\n",
              " '316000,16,0.13,\\n',\n",
              " '15230,48,0.08,4300\\n',\n",
              " '991360,99,0.08,\\n',\n",
              " '323000,27,0.09,4720010000,36,0.08,20000\\n',\n",
              " '528400,120,0.11,100000\\n',\n",
              " '8633400,240,0.06,\\n',\n",
              " '12900,90,0.08,8900']"
            ]
          },
          "metadata": {
            "tags": []
          },
          "execution_count": 18
        }
      ]
    },
    {
      "cell_type": "code",
      "metadata": {
        "id": "6dneFfE_8Fja"
      },
      "source": [
        "#Function to split an input line as a list of column headers.\n",
        "# .strip() removes extra spaces and escape characters\n",
        "# .split() splits the data at the seperator that we passed as an input parameter\n",
        "def parse_header(header_line):\n",
        "  return header_line.strip().split(',')"
      ],
      "execution_count": 19,
      "outputs": []
    },
    {
      "cell_type": "code",
      "metadata": {
        "colab": {
          "base_uri": "https://localhost:8080/",
          "height": 35
        },
        "id": "XEzAGPFZ_Qfr",
        "outputId": "adacbfba-6096-4dec-d1b7-0c665a5efa9d"
      },
      "source": [
        "file3_content[0]"
      ],
      "execution_count": 20,
      "outputs": [
        {
          "output_type": "execute_result",
          "data": {
            "application/vnd.google.colaboratory.intrinsic+json": {
              "type": "string"
            },
            "text/plain": [
              "'amount,duration,rate,down_payment\\n'"
            ]
          },
          "metadata": {
            "tags": []
          },
          "execution_count": 20
        }
      ]
    },
    {
      "cell_type": "code",
      "metadata": {
        "colab": {
          "base_uri": "https://localhost:8080/"
        },
        "id": "RSK9VA1jDlhk",
        "outputId": "8e5569d9-f3c4-4679-fff3-ab0534bc54f2"
      },
      "source": [
        "headers = parse_header(file3_content[0])\n",
        "headers"
      ],
      "execution_count": 21,
      "outputs": [
        {
          "output_type": "execute_result",
          "data": {
            "text/plain": [
              "['amount', 'duration', 'rate', 'down_payment']"
            ]
          },
          "metadata": {
            "tags": []
          },
          "execution_count": 21
        }
      ]
    },
    {
      "cell_type": "code",
      "metadata": {
        "id": "4ZYUODlJ_jme"
      },
      "source": [
        "#Function that takes a data line as an argument and returns a list containing floating point numbers.\n",
        "def parse_value(data_line):\n",
        "    data_line = data_line.strip().split(',')\n",
        "    values = []\n",
        "    for item in data_line:\n",
        "      if item == '':\n",
        "        values.append(0.0)\n",
        "      else:\n",
        "        try:\n",
        "            values.append(float(item))\n",
        "        except ValueError:\n",
        "            values.append(item)\n",
        "    return values\n"
      ],
      "execution_count": 22,
      "outputs": []
    },
    {
      "cell_type": "code",
      "metadata": {
        "colab": {
          "base_uri": "https://localhost:8080/",
          "height": 35
        },
        "id": "87-OzjEy_zzW",
        "outputId": "2ad65725-35f6-4f65-cd1b-e13d3e21c38a"
      },
      "source": [
        "file3_content[2]"
      ],
      "execution_count": 23,
      "outputs": [
        {
          "output_type": "execute_result",
          "data": {
            "application/vnd.google.colaboratory.intrinsic+json": {
              "type": "string"
            },
            "text/plain": [
              "'883000,16,0.14,\\n'"
            ]
          },
          "metadata": {
            "tags": []
          },
          "execution_count": 23
        }
      ]
    },
    {
      "cell_type": "code",
      "metadata": {
        "colab": {
          "base_uri": "https://localhost:8080/"
        },
        "id": "cKb1TFPLEh4U",
        "outputId": "a1a60d56-0339-479a-9e13-32452e82c482"
      },
      "source": [
        "temp = parse_value(file3_content[2])\n",
        "temp"
      ],
      "execution_count": 24,
      "outputs": [
        {
          "output_type": "execute_result",
          "data": {
            "text/plain": [
              "[883000.0, 16.0, 0.14, 0.0]"
            ]
          },
          "metadata": {
            "tags": []
          },
          "execution_count": 24
        }
      ]
    },
    {
      "cell_type": "code",
      "metadata": {
        "id": "ZtGEErkHAQGQ"
      },
      "source": [
        "#Function to create dictionary items of the data\n",
        "def create_dict_item(values, headers):\n",
        "  result = {}\n",
        "  for value, header in zip(values, headers):\n",
        "    result[header] = value\n",
        "  return result"
      ],
      "execution_count": 25,
      "outputs": []
    },
    {
      "cell_type": "code",
      "metadata": {
        "colab": {
          "base_uri": "https://localhost:8080/"
        },
        "id": "cenYrtTUI2Yo",
        "outputId": "9d16e695-6e48-48d6-a7be-b57795386386"
      },
      "source": [
        "headers"
      ],
      "execution_count": 26,
      "outputs": [
        {
          "output_type": "execute_result",
          "data": {
            "text/plain": [
              "['amount', 'duration', 'rate', 'down_payment']"
            ]
          },
          "metadata": {
            "tags": []
          },
          "execution_count": 26
        }
      ]
    },
    {
      "cell_type": "code",
      "metadata": {
        "colab": {
          "base_uri": "https://localhost:8080/"
        },
        "id": "0i9IgiLhI3s9",
        "outputId": "928580c7-a753-47f8-88fc-bb649833e985"
      },
      "source": [
        "temp"
      ],
      "execution_count": 27,
      "outputs": [
        {
          "output_type": "execute_result",
          "data": {
            "text/plain": [
              "[883000.0, 16.0, 0.14, 0.0]"
            ]
          },
          "metadata": {
            "tags": []
          },
          "execution_count": 27
        }
      ]
    },
    {
      "cell_type": "code",
      "metadata": {
        "colab": {
          "base_uri": "https://localhost:8080/"
        },
        "id": "mMBNYpCSGwFp",
        "outputId": "3656a21d-828f-4652-e52e-bd7f5d8a519d"
      },
      "source": [
        "create_dict_item(temp, headers)"
      ],
      "execution_count": 28,
      "outputs": [
        {
          "output_type": "execute_result",
          "data": {
            "text/plain": [
              "{'amount': 883000.0, 'down_payment': 0.0, 'duration': 16.0, 'rate': 0.14}"
            ]
          },
          "metadata": {
            "tags": []
          },
          "execution_count": 28
        }
      ]
    },
    {
      "cell_type": "code",
      "metadata": {
        "id": "CkQu7mZuG04r"
      },
      "source": [
        "#Putting together the read_file, parse_header, parse_value, create_dict_item functions and defining a new function\n",
        "def read_csv(file_path):\n",
        "  result = []\n",
        "  #Reading lines of a file\n",
        "  lines = read_file(file_path)\n",
        "  #Parse the header\n",
        "  header = parse_header(lines[0])\n",
        "  #Looping over the remaining lines\n",
        "  for line in lines[1:]:\n",
        "    #Parse values\n",
        "    values = parse_value(line)\n",
        "    #Creating a dictionary of values and headers\n",
        "    item_dict = create_dict_item(values, headers)\n",
        "    #Add the dictionary item to the result\n",
        "    result.append(item_dict)\n",
        "  return result"
      ],
      "execution_count": 29,
      "outputs": []
    },
    {
      "cell_type": "code",
      "metadata": {
        "colab": {
          "base_uri": "https://localhost:8080/"
        },
        "id": "EcJzNOFAG2ub",
        "outputId": "7f5cd874-4e43-4964-8306-ce5a7ffa05c9"
      },
      "source": [
        "#Testing it\n",
        "loan3_dict = read_csv('./data/loans3.txt')\n",
        "loan3_dict"
      ],
      "execution_count": 30,
      "outputs": [
        {
          "output_type": "execute_result",
          "data": {
            "text/plain": [
              "[{'amount': 45230.0, 'down_payment': 4300.0, 'duration': 48.0, 'rate': 0.07},\n",
              " {'amount': 883000.0, 'down_payment': 0.0, 'duration': 16.0, 'rate': 0.14},\n",
              " {'amount': 100000.0, 'down_payment': 0.0, 'duration': 12.0, 'rate': 0.1},\n",
              " {'amount': 728400.0,\n",
              "  'down_payment': 100000.0,\n",
              "  'duration': 120.0,\n",
              "  'rate': 0.12},\n",
              " {'amount': 3637400.0, 'down_payment': 0.0, 'duration': 240.0, 'rate': 0.06},\n",
              " {'amount': 82900.0, 'down_payment': 8900.0, 'duration': 90.0, 'rate': 0.07},\n",
              " {'amount': 316000.0, 'down_payment': 0.0, 'duration': 16.0, 'rate': 0.13},\n",
              " {'amount': 15230.0, 'down_payment': 4300.0, 'duration': 48.0, 'rate': 0.08},\n",
              " {'amount': 991360.0, 'down_payment': 0.0, 'duration': 99.0, 'rate': 0.08},\n",
              " {'amount': 323000.0,\n",
              "  'down_payment': 4720010000.0,\n",
              "  'duration': 27.0,\n",
              "  'rate': 0.09},\n",
              " {'amount': 528400.0,\n",
              "  'down_payment': 100000.0,\n",
              "  'duration': 120.0,\n",
              "  'rate': 0.11},\n",
              " {'amount': 8633400.0, 'down_payment': 0.0, 'duration': 240.0, 'rate': 0.06},\n",
              " {'amount': 12900.0, 'down_payment': 8900.0, 'duration': 90.0, 'rate': 0.08}]"
            ]
          },
          "metadata": {
            "tags": []
          },
          "execution_count": 30
        }
      ]
    },
    {
      "cell_type": "markdown",
      "metadata": {
        "id": "rkZQ6iM_Ltbh"
      },
      "source": [
        "To read a csv file and turn its rows into dictionary items."
      ]
    },
    {
      "cell_type": "code",
      "metadata": {
        "id": "R5J2eOwbHCAV"
      },
      "source": [
        "def read_file(file_path):\n",
        "  with open(file_path) as file2:\n",
        "    file_content = file2.readlines()\n",
        "  return file_content\n",
        "\n",
        "def parse_header(header_line):\n",
        "  return header_line.strip().split(',')\n",
        "\n",
        "def parse_value(data_line):\n",
        "    data_line = data_line.strip().split(',')\n",
        "    values = []\n",
        "    for item in data_line:\n",
        "      if item == '':\n",
        "        values.append(0.0)\n",
        "      else:\n",
        "        try:\n",
        "            values.append(float(item))\n",
        "        except ValueError:\n",
        "            values.append(item)\n",
        "    return values\n",
        "\n",
        "def create_dict_item(values, headers):\n",
        "  result = {}\n",
        "  for value, header in zip(values, headers):\n",
        "    result[header] = value\n",
        "  return result\n",
        "\n",
        "\n",
        "def read_csv(file_path):\n",
        "  result = []\n",
        "  #Reading lines of a file\n",
        "  lines = read_file(file_path)\n",
        "  #Parse the header\n",
        "  header = parse_header(lines[0])\n",
        "  #Looping over the remaining lines\n",
        "  for line in lines[1:]:\n",
        "    #Parse values\n",
        "    values = parse_value(line)\n",
        "    #Creating a dictionary of values and headers\n",
        "    item_dict = create_dict_item(values, headers)\n",
        "    #Add the dictionary item to the result\n",
        "    result.append(item_dict)\n",
        "  return result"
      ],
      "execution_count": 31,
      "outputs": []
    },
    {
      "cell_type": "code",
      "metadata": {
        "colab": {
          "base_uri": "https://localhost:8080/"
        },
        "id": "fUGo0LR4Hcuu",
        "outputId": "864905c6-e6c6-4c60-9aa2-7fe4f602827e"
      },
      "source": [
        "#Writing to files\n",
        "loans2_dict = read_csv('./data/loans2.txt')\n",
        "loans2_dict"
      ],
      "execution_count": 32,
      "outputs": [
        {
          "output_type": "execute_result",
          "data": {
            "text/plain": [
              "[{'amount': 828400.0,\n",
              "  'down_payment': 100000.0,\n",
              "  'duration': 120.0,\n",
              "  'rate': 0.11},\n",
              " {'amount': 4633400.0, 'down_payment': 0.0, 'duration': 240.0, 'rate': 0.06},\n",
              " {'amount': 42900.0, 'down_payment': 8900.0, 'duration': 90.0, 'rate': 0.08},\n",
              " {'amount': 983000.0, 'down_payment': 0.0, 'duration': 16.0, 'rate': 0.14},\n",
              " {'amount': 15230.0, 'down_payment': 4300.0, 'duration': 48.0, 'rate': 0.07}]"
            ]
          },
          "metadata": {
            "tags": []
          },
          "execution_count": 32
        }
      ]
    },
    {
      "cell_type": "code",
      "metadata": {
        "id": "3swOGJDnMcXl"
      },
      "source": [
        " with open('./data/output.txt', 'w') as f:\n",
        "   for val in loans2_dict:\n",
        "     f.write(f\"{val['amount']},{val['down_payment']},{val['duration']},{val['rate']}\\n\")"
      ],
      "execution_count": 48,
      "outputs": []
    },
    {
      "cell_type": "code",
      "metadata": {
        "colab": {
          "base_uri": "https://localhost:8080/"
        },
        "id": "3vn62ObnvYcN",
        "outputId": "b4dc0dce-900b-4edc-8ab7-280e76d76c30"
      },
      "source": [
        "os.listdir('data')"
      ],
      "execution_count": 49,
      "outputs": [
        {
          "output_type": "execute_result",
          "data": {
            "text/plain": [
              "['output.txt', 'loans3.txt', 'loans1.txt', 'loans2.txt']"
            ]
          },
          "metadata": {
            "tags": []
          },
          "execution_count": 49
        }
      ]
    },
    {
      "cell_type": "code",
      "metadata": {
        "colab": {
          "base_uri": "https://localhost:8080/"
        },
        "id": "MgSPd09VyjYQ",
        "outputId": "387e75d4-d2be-40db-fb8e-99654e7ce4b9"
      },
      "source": [
        "with open('./data/output.txt', 'r') as x:\n",
        "          print(x.read())"
      ],
      "execution_count": 51,
      "outputs": [
        {
          "output_type": "stream",
          "text": [
            "828400.0,100000.0,120.0,0.11\n",
            "4633400.0,0.0,240.0,0.06\n",
            "42900.0,8900.0,90.0,0.08\n",
            "983000.0,0.0,16.0,0.14\n",
            "15230.0,4300.0,48.0,0.07\n",
            "\n"
          ],
          "name": "stdout"
        }
      ]
    },
    {
      "cell_type": "code",
      "metadata": {
        "id": "otoV88pFwJFY"
      },
      "source": [
        "#Function to write to a file\n",
        "def write_csv(items, path):\n",
        "  #Open the file in write mode\n",
        "  with open(path, 'w') as x:\n",
        "    #If there is nothing to write, return\n",
        "    if len(items) == 0:\n",
        "      return\n",
        "\n",
        "    #Write the header in first line\n",
        "    headers = list(items[0].keys())\n",
        "    x.write(','.join(headers) + '\\n')\n",
        "\n",
        "    #Write one item per line\n",
        "    for item in items:\n",
        "      values = []\n",
        "      curr = list(item.values())\n",
        "      for a in curr:\n",
        "        values.append(str(a))\n",
        "      x.write(','.join(values) + \"\\n\")"
      ],
      "execution_count": 75,
      "outputs": []
    },
    {
      "cell_type": "code",
      "metadata": {
        "id": "tOuvWCcIwW8m"
      },
      "source": [
        "write_csv(loans2_dict, './data/output2.txt')"
      ],
      "execution_count": 76,
      "outputs": []
    },
    {
      "cell_type": "code",
      "metadata": {
        "colab": {
          "base_uri": "https://localhost:8080/"
        },
        "id": "qxnLeFpHzmSM",
        "outputId": "bd01c1a0-e83d-4382-b956-a1c4c1841fb5"
      },
      "source": [
        "os.listdir('data')"
      ],
      "execution_count": 77,
      "outputs": [
        {
          "output_type": "execute_result",
          "data": {
            "text/plain": [
              "['output.txt', 'loans3.txt', 'loans1.txt', 'loans2.txt', 'output2.txt']"
            ]
          },
          "metadata": {
            "tags": []
          },
          "execution_count": 77
        }
      ]
    },
    {
      "cell_type": "code",
      "metadata": {
        "colab": {
          "base_uri": "https://localhost:8080/"
        },
        "id": "uFamFQEyzshU",
        "outputId": "31cd8a10-40ca-4883-e8f9-28d43c2863e7"
      },
      "source": [
        "with open('./data/output2.txt', 'r') as x:\n",
        "          print(x.read())"
      ],
      "execution_count": 78,
      "outputs": [
        {
          "output_type": "stream",
          "text": [
            "amount,duration,rate,down_payment\n",
            "828400.0,120.0,0.11,100000.0\n",
            "4633400.0,240.0,0.06,0.0\n",
            "42900.0,90.0,0.08,8900.0\n",
            "983000.0,16.0,0.14,0.0\n",
            "15230.0,48.0,0.07,4300.0\n",
            "\n"
          ],
          "name": "stdout"
        }
      ]
    },
    {
      "cell_type": "code",
      "metadata": {
        "id": "GpAusd3q1mz8"
      },
      "source": [
        ""
      ],
      "execution_count": null,
      "outputs": []
    }
  ]
}
